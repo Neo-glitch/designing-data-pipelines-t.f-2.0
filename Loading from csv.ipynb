{
 "cells": [
  {
   "cell_type": "code",
   "execution_count": 1,
   "metadata": {},
   "outputs": [],
   "source": [
    "import numpy\n",
    "import pandas as pd\n",
    "import tensorflow as tf\n",
    "\n",
    "TRAIN_DATA_URL = \"https://storage.googleapis.com/tf-datasets/titanic/train.csv\"\n",
    "TEST_DATA_URL = \"https://storage.googleapis.com/tf-datasets/titanic/eval.csv\""
   ]
  },
  {
   "cell_type": "code",
   "execution_count": 3,
   "metadata": {},
   "outputs": [
    {
     "name": "stdout",
     "output_type": "stream",
     "text": [
      "Downloading data from https://storage.googleapis.com/tf-datasets/titanic/train.csv\n",
      "32768/30874 [===============================] - 1s 16us/step\n",
      "Downloading data from https://storage.googleapis.com/tf-datasets/titanic/eval.csv\n",
      "16384/13049 [=====================================] - 0s 0us/step\n"
     ]
    }
   ],
   "source": [
    "train_file_path = tf.keras.utils.get_file(\"train.csv\", TRAIN_DATA_URL)  # downloads a file from specified url and stores as train.csv\n",
    "test_file_path = tf.keras.utils.get_file(\"test.csv\", TEST_DATA_URL)"
   ]
  },
  {
   "cell_type": "markdown",
   "metadata": {},
   "source": [
    "**Loading Downloaded data**"
   ]
  },
  {
   "cell_type": "code",
   "execution_count": 10,
   "metadata": {},
   "outputs": [],
   "source": [
    "LABEL_COLUMN = \"survived\"\n",
    "\n",
    "# helper function to get the needed dataset for operation\n",
    "def get_dataset(file_path, **kwargs):\n",
    "    \n",
    "    # prefetches a dataset that match param from file path of csv\n",
    "    dataset = tf.data.experimental.make_csv_dataset(\n",
    "        file_path,\n",
    "        batch_size = 5,\n",
    "        label_name = LABEL_COLUMN,\n",
    "        na_value = \"?\",\n",
    "        num_epochs = 10,\n",
    "        ignore_errors = True,\n",
    "        **kwargs\n",
    "    )\n",
    "    return dataset"
   ]
  },
  {
   "cell_type": "code",
   "execution_count": 11,
   "metadata": {},
   "outputs": [],
   "source": [
    "raw_train_data = get_dataset(train_file_path)\n",
    "raw_test_data = get_dataset(test_file_path)"
   ]
  },
  {
   "cell_type": "code",
   "execution_count": 16,
   "metadata": {},
   "outputs": [
    {
     "name": "stdout",
     "output_type": "stream",
     "text": [
      "sex. [b'male' b'male' b'male' b'female' b'male']\n",
      "age. [38. 16. 20. 62. 58.]\n",
      "n_siblings_spouses. [0 1 0 0 0]\n",
      "parch. [0 1 0 0 2]\n",
      "fare. [  8.6625  20.25     4.0125  80.     113.275 ]\n",
      "class. [b'Third' b'Third' b'Third' b'First' b'First']\n",
      "deck. [b'unknown' b'unknown' b'unknown' b'B' b'D']\n",
      "embark_town. [b'Southampton' b'Southampton' b'Cherbourg' b'unknown' b'Cherbourg']\n",
      "alone. [b'y' b'n' b'y' b'y' b'n']\n"
     ]
    }
   ],
   "source": [
    "# helper to show the batch obtained from prefetched data\n",
    "def show_batch(dataset):\n",
    "    for batch, label in dataset.take(1): # iter trough 1st observatin in batch(i.e 1st batch only)\n",
    "        for key, value in batch.items():\n",
    "            print(f\"{key}. {value.numpy()}\")\n",
    "            \n",
    "\n",
    "show_batch(raw_test_data)"
   ]
  },
  {
   "cell_type": "code",
   "execution_count": 17,
   "metadata": {},
   "outputs": [
    {
     "name": "stdout",
     "output_type": "stream",
     "text": [
      "sex. [b'male' b'male' b'male' b'female' b'male']\n",
      "age. [19. 38. 38. 48. 28.]\n",
      "n_siblings_spouses. [0 0 0 1 0]\n",
      "parch. [0 1 0 0 0]\n",
      "fare. [  7.8958 153.4625   7.05    39.6      7.75  ]\n",
      "class. [b'Third' b'First' b'Third' b'First' b'Third']\n",
      "deck. [b'unknown' b'C' b'unknown' b'A' b'unknown']\n",
      "embark_town. [b'Southampton' b'Southampton' b'Southampton' b'Cherbourg' b'Queenstown']\n",
      "alone. [b'y' b'n' b'y' b'n' b'y']\n"
     ]
    }
   ],
   "source": [
    "# csv already has col names, but if not best to do operation\n",
    "CSV_COLUMNS = [\"survived\", \"sex\", \"age\", \"n_siblings_spouses\", \"parch\",\n",
    "              \"fare\", \"class\", \"deck\", \"embark_town\", \"alone\"]\n",
    "\n",
    "temp_dataset = get_dataset(train_file_path, column_names = CSV_COLUMNS)\n",
    "\n",
    "show_batch(temp_dataset)"
   ]
  },
  {
   "cell_type": "code",
   "execution_count": 18,
   "metadata": {},
   "outputs": [
    {
     "name": "stdout",
     "output_type": "stream",
     "text": [
      "class. [b'Third' b'First' b'Second' b'Second' b'First']\n",
      "deck. [b'unknown' b'unknown' b'unknown' b'unknown' b'unknown']\n",
      "embark_town. [b'Southampton' b'Cherbourg' b'Southampton' b'Southampton' b'Cherbourg']\n",
      "alone. [b'n' b'n' b'n' b'n' b'y']\n"
     ]
    }
   ],
   "source": [
    "# selecting cols we want out of a csv\n",
    "CSV_COLUMNS = [\"survived\", \"class\", \"deck\", \"embark_town\", \"alone\"]\n",
    "\n",
    "temp_dataset = get_dataset(train_file_path, select_columns = CSV_COLUMNS)\n",
    "\n",
    "show_batch(temp_dataset)"
   ]
  },
  {
   "cell_type": "code",
   "execution_count": null,
   "metadata": {},
   "outputs": [],
   "source": []
  },
  {
   "cell_type": "code",
   "execution_count": null,
   "metadata": {},
   "outputs": [],
   "source": []
  },
  {
   "cell_type": "code",
   "execution_count": null,
   "metadata": {},
   "outputs": [],
   "source": []
  },
  {
   "cell_type": "code",
   "execution_count": null,
   "metadata": {},
   "outputs": [],
   "source": []
  },
  {
   "cell_type": "code",
   "execution_count": null,
   "metadata": {},
   "outputs": [],
   "source": []
  },
  {
   "cell_type": "code",
   "execution_count": null,
   "metadata": {},
   "outputs": [],
   "source": []
  },
  {
   "cell_type": "code",
   "execution_count": null,
   "metadata": {},
   "outputs": [],
   "source": []
  },
  {
   "cell_type": "code",
   "execution_count": null,
   "metadata": {},
   "outputs": [],
   "source": []
  },
  {
   "cell_type": "code",
   "execution_count": null,
   "metadata": {},
   "outputs": [],
   "source": []
  },
  {
   "cell_type": "code",
   "execution_count": null,
   "metadata": {},
   "outputs": [],
   "source": []
  },
  {
   "cell_type": "code",
   "execution_count": null,
   "metadata": {},
   "outputs": [],
   "source": []
  },
  {
   "cell_type": "code",
   "execution_count": null,
   "metadata": {},
   "outputs": [],
   "source": []
  },
  {
   "cell_type": "code",
   "execution_count": null,
   "metadata": {},
   "outputs": [],
   "source": []
  },
  {
   "cell_type": "code",
   "execution_count": null,
   "metadata": {},
   "outputs": [],
   "source": []
  },
  {
   "cell_type": "code",
   "execution_count": null,
   "metadata": {},
   "outputs": [],
   "source": []
  },
  {
   "cell_type": "code",
   "execution_count": null,
   "metadata": {},
   "outputs": [],
   "source": []
  },
  {
   "cell_type": "code",
   "execution_count": null,
   "metadata": {},
   "outputs": [],
   "source": []
  },
  {
   "cell_type": "code",
   "execution_count": null,
   "metadata": {},
   "outputs": [],
   "source": []
  },
  {
   "cell_type": "code",
   "execution_count": null,
   "metadata": {},
   "outputs": [],
   "source": []
  },
  {
   "cell_type": "code",
   "execution_count": null,
   "metadata": {},
   "outputs": [],
   "source": []
  }
 ],
 "metadata": {
  "kernelspec": {
   "display_name": "Python 3",
   "language": "python",
   "name": "python3"
  },
  "language_info": {
   "codemirror_mode": {
    "name": "ipython",
    "version": 3
   },
   "file_extension": ".py",
   "mimetype": "text/x-python",
   "name": "python",
   "nbconvert_exporter": "python",
   "pygments_lexer": "ipython3",
   "version": "3.8.5"
  }
 },
 "nbformat": 4,
 "nbformat_minor": 4
}
